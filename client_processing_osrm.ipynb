{
 "cells": [
  {
   "cell_type": "code",
   "execution_count": 9,
   "metadata": {},
   "outputs": [],
   "source": [
    "import os, json\n",
    "import pandas as pd\n",
    "import numpy as np\n",
    "import math\n",
    "import datetime as dt\n",
    "import requests\n",
    "from concurrent import futures\n",
    "# import asyncio\n",
    "# import aiohttp\n",
    "# from aiohttp import ClientSession, client_exceptions\n",
    "# from asyncio import Semaphore, ensure_future, gather, run\n",
    "pd.set_option(\"display.max_colwidth\", 10000)"
   ]
  },
  {
   "cell_type": "code",
   "execution_count": 2,
   "metadata": {},
   "outputs": [],
   "source": [
    "#url list builder function\n",
    "def url_builder(lon1, lat1, lon2, lat2):\n",
    "    \"\"\"\n",
    "    Pre-assemble the list of URLs to pass to the routing machine to cut down on compute time\n",
    "    \"\"\"\n",
    "    url = ('http://localhost:5000/route/v1/driving/{},{};{},{}?overview=false'\n",
    "           .format(lon1, lat1, lon2, lat2))\n",
    "    return url\n"
   ]
  },
  {
   "cell_type": "code",
   "execution_count": 3,
   "metadata": {},
   "outputs": [],
   "source": [
    "#read in data\n",
    "df = pd.read_csv(\"C:/Users/Mark Hansen/daily_data/grouped/bus_points_2-17.csv\")"
   ]
  },
  {
   "cell_type": "code",
   "execution_count": 4,
   "metadata": {},
   "outputs": [],
   "source": [
    "#convert timestamps to datetime format\n",
    "df['call_time'] = pd.to_datetime(df['call_time'])\n",
    "#create report time variable (difference between the time the bus reported its coordinates and my ping)\n",
    "df['report_time'] = df['call_time'] - pd.to_timedelta(df['seconds_since_report'], unit='s')"
   ]
  },
  {
   "cell_type": "code",
   "execution_count": 5,
   "metadata": {},
   "outputs": [],
   "source": [
    "#sort by bus_id and report_time, calculate time deltas\n",
    "df = df.sort_values(by=['bus_id', 'report_time'])\n",
    "df['diff'] = df.groupby('bus_id')['report_time'].diff()"
   ]
  },
  {
   "cell_type": "code",
   "execution_count": 6,
   "metadata": {},
   "outputs": [],
   "source": [
    "#if the ping response has the same report as before, the difference between report times is 0, thus useless\n",
    "df = df[df['diff'].dt.total_seconds() != 0]"
   ]
  },
  {
   "cell_type": "code",
   "execution_count": 7,
   "metadata": {},
   "outputs": [],
   "source": [
    "#group and add prior report's lat long\n",
    "dfg = df.groupby('bus_id')\n",
    "df ['p_latitude'] = dfg['latitude'].shift(1)\n",
    "df ['p_longitude'] = dfg['longitude'].shift(1)\n",
    "#i think the NAs are puttings 0,0 coordinates into my distance calculations?\n",
    "df = df.dropna(subset=['diff'])\n"
   ]
  },
  {
   "cell_type": "code",
   "execution_count": 8,
   "metadata": {},
   "outputs": [],
   "source": [
    "#build url list\n",
    "\n",
    "url_list = df[['p_latitude', 'p_longitude', 'latitude','longitude']].apply(\n",
    "    lambda x: url_builder(x[1], x[0], x[3], x[2]), axis=1)"
   ]
  },
  {
   "cell_type": "code",
   "execution_count": null,
   "metadata": {},
   "outputs": [],
   "source": [
    "# #multithreading\n",
    "# responses = []\n",
    "# def get_resp(url):\n",
    "#     resp = requests.get(url)\n",
    "#     data = resp.json()\n",
    "#     return data['routes'][0]['distance']\n",
    "# with futures.ThreadPoolExecutor(max_workers = 2000) as executor:\n",
    "#     resps = executor.map(get_resp, url_list)\n",
    "# responses = list(resps)"
   ]
  },
  {
   "cell_type": "code",
   "execution_count": null,
   "metadata": {},
   "outputs": [],
   "source": [
    "\n"
   ]
  },
  {
   "cell_type": "code",
   "execution_count": null,
   "metadata": {},
   "outputs": [],
   "source": []
  },
  {
   "cell_type": "code",
   "execution_count": null,
   "metadata": {},
   "outputs": [],
   "source": [
    "#async option 1\n",
    "\n",
    "# distances = []\n",
    "# async def fetch(url, session):\n",
    "#     async with session.get(url) as response:\n",
    "#         return await response.json()\n",
    "    \n",
    "# async def bound_fetch(sem, url, session):\n",
    "#     async with sem:\n",
    "#         await fetch(url, session)\n",
    "        \n",
    "# async def run(session, urls):\n",
    "#     tasks = []\n",
    "#     sem = asyncio.Semaphore(2000)\n",
    "#     for url in urls:\n",
    "#         task = asyncio.ensure_future(bound_fetch(sem, url, session))\n",
    "#         tasks.append(task)\n",
    "#     responses = asyncio.gather(*tasks)\n",
    "#     await responses\n",
    "# async with ClientSession() as session:\n",
    "#    await run(session, url_list)\n",
    "    "
   ]
  },
  {
   "cell_type": "code",
   "execution_count": null,
   "metadata": {
    "scrolled": true
   },
   "outputs": [],
   "source": [
    "#async option 2\n",
    "# limit = 500\n",
    "# distances = []\n",
    "# async def scrape(url_list):\n",
    "#     tasks = list()\n",
    "#     sem = Semaphore(limit)\n",
    "    \n",
    "#     async with ClientSession() as session:\n",
    "#         for url in url_list:\n",
    "#             task = ensure_future(scrape_bounded(url, sem, session))\n",
    "#             tasks.append(task)\n",
    "#         result = await gather(*tasks)\n",
    "#     return result\n",
    "\n",
    "# async def scrape_bounded(url, sem, session):\n",
    "#     async with sem:\n",
    "#         return await scrape_one(url, session)\n",
    "\n",
    "# async def scrape_one(url, session):\n",
    "#     async with session.get(url) as response:\n",
    "#         content = await response.json()\n",
    "#     content = content['routes'][0]['distance']\n",
    "    \n",
    "#     return content\n",
    "\n",
    "\n",
    "# loop = asyncio.get_event_loop()\n",
    "# distances = loop.create_task(scrape(url_list))\n",
    "\n",
    "        "
   ]
  },
  {
   "cell_type": "code",
   "execution_count": null,
   "metadata": {},
   "outputs": [],
   "source": [
    "\n",
    "# df['distance'] = df[['url']].apply(\n",
    "# lambda x: make_request(x[0]), axis=1)"
   ]
  },
  {
   "cell_type": "code",
   "execution_count": null,
   "metadata": {},
   "outputs": [],
   "source": [
    "#get hours\n",
    "# df['diff'] = df['diff'].dt.total_seconds()\n",
    "# df['diff'] = df['diff']/3600"
   ]
  },
  {
   "cell_type": "code",
   "execution_count": null,
   "metadata": {},
   "outputs": [],
   "source": [
    "#convert KM to miles\n",
    "# df['distance'] = df['distance']/1.609"
   ]
  },
  {
   "cell_type": "code",
   "execution_count": null,
   "metadata": {},
   "outputs": [],
   "source": [
    "#speed is distance over time\n",
    "# df['mph'] = df['distance']/df['diff']"
   ]
  },
  {
   "cell_type": "code",
   "execution_count": null,
   "metadata": {},
   "outputs": [],
   "source": [
    "#df.to_csv('C:/Users/Mark Hansen/daily_data/grouped/bus_points_speed2.csv')"
   ]
  }
 ],
 "metadata": {
  "kernelspec": {
   "display_name": "Python 3",
   "language": "python",
   "name": "python3"
  },
  "language_info": {
   "codemirror_mode": {
    "name": "ipython",
    "version": 3
   },
   "file_extension": ".py",
   "mimetype": "text/x-python",
   "name": "python",
   "nbconvert_exporter": "python",
   "pygments_lexer": "ipython3",
   "version": "3.7.4"
  }
 },
 "nbformat": 4,
 "nbformat_minor": 2
}
