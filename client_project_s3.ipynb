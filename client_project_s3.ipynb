{
 "cells": [
  {
   "cell_type": "code",
   "execution_count": 1,
   "metadata": {},
   "outputs": [],
   "source": [
    "import requests\n",
    "import pandas as pd\n",
    "import os\n",
    "import datetime as dt\n",
    "import time\n",
    "import boto3\n"
   ]
  },
  {
   "cell_type": "code",
   "execution_count": 13,
   "metadata": {},
   "outputs": [],
   "source": [
    "#define S3 resources\n",
    "s3 = boto3.resource('s3')\n",
    "metro_bucket = 'day1metroapi'"
   ]
  },
  {
   "cell_type": "code",
   "execution_count": 47,
   "metadata": {},
   "outputs": [],
   "source": [
    "# function to get vehicle locations by route\n",
    "def get_vehicles_byroute(routenum):\n",
    "    #set bucket directory\n",
    "    subfolder = dt.datetime.today().strftime('%Y-%m-%d') + '/'\n",
    "    \n",
    "    #make request with route number\n",
    "    resp = requests.get('http://api.metro.net/agencies/lametro/routes/%s/vehicles/' % routenum)\n",
    "    \n",
    "    #check if call is successful\n",
    "    if resp.status_code != requests.codes.ok:\n",
    "        return resp.status_code\n",
    "    \n",
    "    #store json response as data\n",
    "    data = resp.json()\n",
    "    \n",
    "    #convert json to dataframe\n",
    "    routedata = pd.DataFrame(data['items'])\n",
    "    \n",
    "    #get current time\n",
    "    now = dt.datetime.now()\n",
    "    \n",
    "    #add current time to as a value to dataframe \"call_time\"\n",
    "    routedata['call_time'] = now\n",
    "    \n",
    "    #convert df back to json for storage\n",
    "    routedata = routedata.to_json()\n",
    "    \n",
    "    #save JSON to S3 bucket\n",
    "    s3.Object(metro_bucket, str(subfolder) + str(routenum) + '_' + now.strftime('%Y-%m-%d-%H-%M') + '.json').put(Body=routedata)\n",
    "    \n",
    "    return resp.status_code"
   ]
  },
  {
   "cell_type": "code",
   "execution_count": 48,
   "metadata": {},
   "outputs": [],
   "source": [
    "#function to call multipe routes\n",
    "def get_routes(*routes):\n",
    "    for route in routes:\n",
    "        get_vehicles_byroute(routenum = route)\n",
    "        time.sleep(3)\n",
    "        \n",
    "    return\n",
    "        "
   ]
  },
  {
   "cell_type": "code",
   "execution_count": 49,
   "metadata": {},
   "outputs": [],
   "source": [
    "#run function for 13 hours (7am-8pm)\n",
    "end_time = dt.datetime.now() + dt.timedelta(minutes=780)\n",
    "\n",
    "while True:\n",
    "    get_routes(205,754,728)\n",
    "    if dt.datetime.now() >= end_time:\n",
    "        break\n"
   ]
  }
 ],
 "metadata": {
  "kernelspec": {
   "display_name": "Python 3",
   "language": "python",
   "name": "python3"
  },
  "language_info": {
   "codemirror_mode": {
    "name": "ipython",
    "version": 3
   },
   "file_extension": ".py",
   "mimetype": "text/x-python",
   "name": "python",
   "nbconvert_exporter": "python",
   "pygments_lexer": "ipython3",
   "version": "3.7.3"
  }
 },
 "nbformat": 4,
 "nbformat_minor": 2
}
