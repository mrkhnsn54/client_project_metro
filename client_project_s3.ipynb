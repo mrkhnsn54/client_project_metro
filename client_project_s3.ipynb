{
 "cells": [
  {
   "cell_type": "code",
   "execution_count": 50,
   "metadata": {},
   "outputs": [],
   "source": [
    "import requests\n",
    "import pandas as pd\n",
    "import os\n",
    "import datetime as dt\n",
    "import time\n",
    "import boto3\n"
   ]
  },
  {
   "cell_type": "code",
   "execution_count": 51,
   "metadata": {},
   "outputs": [],
   "source": [
    "#define S3 resources\n",
    "s3 = boto3.resource('s3')\n",
    "metro_bucket = 'day1metroapi'"
   ]
  },
  {
   "cell_type": "code",
   "execution_count": 52,
   "metadata": {},
   "outputs": [],
   "source": [
    "# function to get vehicle locations by route\n",
    "def get_vehicles_byroute(routenum):\n",
    "    #set bucket directory\n",
    "    subfolder = dt.datetime.today().strftime('%Y-%m-%d') + '/'\n",
    "    \n",
    "    #make request with route number\n",
    "    resp = requests.get('http://api.metro.net/agencies/lametro/routes/%s/vehicles/' % routenum)\n",
    "    \n",
    "    #check if call is successful\n",
    "    if resp.status_code != requests.codes.ok:\n",
    "        return \n",
    "    \n",
    "    #store json response as data\n",
    "    data = resp.json()\n",
    "    \n",
    "    #convert json to dataframe\n",
    "    routedata = pd.DataFrame(data['items'])\n",
    "    \n",
    "    #get current time\n",
    "    now = dt.datetime.now()\n",
    "    \n",
    "    #add current time to as a value to dataframe \"call_time\"\n",
    "    routedata['call_time'] = now\n",
    "    \n",
    "    #convert df back to json for storage\n",
    "    routedata = routedata.to_json()\n",
    "    \n",
    "    #save JSON to S3 bucket\n",
    "    s3.Object(metro_bucket, str(subfolder) + str(routenum) + '_' + now.strftime('%Y-%m-%d-%H-%M') + '.json').put(Body=routedata)\n",
    "    \n",
    "    return "
   ]
  },
  {
   "cell_type": "code",
   "execution_count": 53,
   "metadata": {},
   "outputs": [],
   "source": [
    "#function to call multipe routes\n",
    "def get_routes(*routes):\n",
    "    for route in routes:\n",
    "        get_vehicles_byroute(routenum = route)\n",
    "        time.sleep(3)\n",
    "        \n",
    "    return\n",
    "        "
   ]
  },
  {
   "cell_type": "code",
   "execution_count": 54,
   "metadata": {},
   "outputs": [
    {
     "ename": "KeyboardInterrupt",
     "evalue": "",
     "output_type": "error",
     "traceback": [
      "\u001b[1;31m---------------------------------------------------------------------------\u001b[0m",
      "\u001b[1;31mKeyboardInterrupt\u001b[0m                         Traceback (most recent call last)",
      "\u001b[1;32m<ipython-input-54-cf9f27bd712e>\u001b[0m in \u001b[0;36m<module>\u001b[1;34m\u001b[0m\n\u001b[0;32m      3\u001b[0m \u001b[1;33m\u001b[0m\u001b[0m\n\u001b[0;32m      4\u001b[0m \u001b[1;32mwhile\u001b[0m \u001b[1;32mTrue\u001b[0m\u001b[1;33m:\u001b[0m\u001b[1;33m\u001b[0m\u001b[1;33m\u001b[0m\u001b[0m\n\u001b[1;32m----> 5\u001b[1;33m     \u001b[0mget_routes\u001b[0m\u001b[1;33m(\u001b[0m\u001b[1;36m205\u001b[0m\u001b[1;33m,\u001b[0m\u001b[1;36m754\u001b[0m\u001b[1;33m,\u001b[0m\u001b[1;36m728\u001b[0m\u001b[1;33m)\u001b[0m\u001b[1;33m\u001b[0m\u001b[1;33m\u001b[0m\u001b[0m\n\u001b[0m\u001b[0;32m      6\u001b[0m     \u001b[1;32mif\u001b[0m \u001b[0mdt\u001b[0m\u001b[1;33m.\u001b[0m\u001b[0mdatetime\u001b[0m\u001b[1;33m.\u001b[0m\u001b[0mnow\u001b[0m\u001b[1;33m(\u001b[0m\u001b[1;33m)\u001b[0m \u001b[1;33m>=\u001b[0m \u001b[0mend_time\u001b[0m\u001b[1;33m:\u001b[0m\u001b[1;33m\u001b[0m\u001b[1;33m\u001b[0m\u001b[0m\n\u001b[0;32m      7\u001b[0m         \u001b[1;32mbreak\u001b[0m\u001b[1;33m\u001b[0m\u001b[1;33m\u001b[0m\u001b[0m\n",
      "\u001b[1;32m<ipython-input-53-a9ee5167cf90>\u001b[0m in \u001b[0;36mget_routes\u001b[1;34m(*routes)\u001b[0m\n\u001b[0;32m      3\u001b[0m     \u001b[1;32mfor\u001b[0m \u001b[0mroute\u001b[0m \u001b[1;32min\u001b[0m \u001b[0mroutes\u001b[0m\u001b[1;33m:\u001b[0m\u001b[1;33m\u001b[0m\u001b[1;33m\u001b[0m\u001b[0m\n\u001b[0;32m      4\u001b[0m         \u001b[0mget_vehicles_byroute\u001b[0m\u001b[1;33m(\u001b[0m\u001b[0mroutenum\u001b[0m \u001b[1;33m=\u001b[0m \u001b[0mroute\u001b[0m\u001b[1;33m)\u001b[0m\u001b[1;33m\u001b[0m\u001b[1;33m\u001b[0m\u001b[0m\n\u001b[1;32m----> 5\u001b[1;33m         \u001b[0mtime\u001b[0m\u001b[1;33m.\u001b[0m\u001b[0msleep\u001b[0m\u001b[1;33m(\u001b[0m\u001b[1;36m3\u001b[0m\u001b[1;33m)\u001b[0m\u001b[1;33m\u001b[0m\u001b[1;33m\u001b[0m\u001b[0m\n\u001b[0m\u001b[0;32m      6\u001b[0m \u001b[1;33m\u001b[0m\u001b[0m\n\u001b[0;32m      7\u001b[0m     \u001b[1;32mreturn\u001b[0m\u001b[1;33m\u001b[0m\u001b[1;33m\u001b[0m\u001b[0m\n",
      "\u001b[1;31mKeyboardInterrupt\u001b[0m: "
     ]
    }
   ],
   "source": [
    "#run function for 13 hours (7am-8pm)\n",
    "end_time = dt.datetime.now() + dt.timedelta(minutes=780)\n",
    "\n",
    "while True:\n",
    "    get_routes(205,754,728)\n",
    "    if dt.datetime.now() >= end_time:\n",
    "        break\n"
   ]
  }
 ],
 "metadata": {
  "kernelspec": {
   "display_name": "Python 3",
   "language": "python",
   "name": "python3"
  },
  "language_info": {
   "codemirror_mode": {
    "name": "ipython",
    "version": 3
   },
   "file_extension": ".py",
   "mimetype": "text/x-python",
   "name": "python",
   "nbconvert_exporter": "python",
   "pygments_lexer": "ipython3",
   "version": "3.7.3"
  }
 },
 "nbformat": 4,
 "nbformat_minor": 2
}
