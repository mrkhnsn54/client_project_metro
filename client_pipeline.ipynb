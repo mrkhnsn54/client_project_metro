{
 "cells": [
  {
   "cell_type": "code",
   "execution_count": 1,
   "metadata": {},
   "outputs": [],
   "source": [
    "import os, json\n",
    "import pandas as pd\n",
    "import numpy as np\n",
    "import glob\n"
   ]
  },
  {
   "cell_type": "code",
   "execution_count": 2,
   "metadata": {},
   "outputs": [],
   "source": [
    "\n",
    "path_to_json = '/Users/Mark Hansen/Downloads/2020-03-03/*.json'\n",
    "\n",
    "file_list = glob.glob(path_to_json)\n",
    "df_list = []\n"
   ]
  },
  {
   "cell_type": "code",
   "execution_count": 3,
   "metadata": {},
   "outputs": [],
   "source": [
    "for f in file_list:\n",
    "    data = pd.read_json(f)\n",
    "    df_list.append(data)\n",
    " "
   ]
  },
  {
   "cell_type": "code",
   "execution_count": 4,
   "metadata": {},
   "outputs": [
    {
     "name": "stderr",
     "output_type": "stream",
     "text": [
      "C:\\Users\\Mark Hansen\\Anaconda3\\lib\\site-packages\\ipykernel_launcher.py:1: FutureWarning: Sorting because non-concatenation axis is not aligned. A future version\n",
      "of pandas will change to not sort by default.\n",
      "\n",
      "To accept the future behavior, pass 'sort=False'.\n",
      "\n",
      "To retain the current behavior and silence the warning, pass 'sort=True'.\n",
      "\n",
      "  \"\"\"Entry point for launching an IPython kernel.\n"
     ]
    }
   ],
   "source": [
    "\n",
    "df = pd.concat(df_list)"
   ]
  },
  {
   "cell_type": "code",
   "execution_count": 9,
   "metadata": {},
   "outputs": [],
   "source": [
    "df.to_csv(\"C:/Users/Mark Hansen/daily_data/2020-03-03.csv\")"
   ]
  },
  {
   "cell_type": "code",
   "execution_count": 10,
   "metadata": {},
   "outputs": [],
   "source": [
    "\n",
    "path_to_csv = '/Users/Mark Hansen/daily_data/group2/*.csv'\n",
    "file_list = glob.glob(path_to_csv)\n",
    "csv_list = []\n",
    "for f in file_list:\n",
    "    data = pd.read_csv(f)\n",
    "    csv_list.append(data)\n",
    "    \n",
    "all_df = pd.concat(csv_list)\n"
   ]
  },
  {
   "cell_type": "code",
   "execution_count": 11,
   "metadata": {},
   "outputs": [],
   "source": [
    "all_df.to_csv(\"C:/Users/Mark Hansen/daily_data/grouped/group2_3-03.csv\")\n",
    "\n"
   ]
  },
  {
   "cell_type": "code",
   "execution_count": null,
   "metadata": {},
   "outputs": [],
   "source": [
    "path_to_csv = '/Users/Mark Hansen/daily_data/group2/*.csv'\n",
    "file_list = glob.glob(path_to_csv)\n",
    "csv_list = []\n",
    "for f in file_list:\n",
    "    data = pd.read_csv(f)\n",
    "    csv_list.append(data)\n",
    "    \n",
    "all_df = pd.concat(csv_list)"
   ]
  }
 ],
 "metadata": {
  "kernelspec": {
   "display_name": "Python 3",
   "language": "python",
   "name": "python3"
  },
  "language_info": {
   "codemirror_mode": {
    "name": "ipython",
    "version": 3
   },
   "file_extension": ".py",
   "mimetype": "text/x-python",
   "name": "python",
   "nbconvert_exporter": "python",
   "pygments_lexer": "ipython3",
   "version": "3.7.4"
  }
 },
 "nbformat": 4,
 "nbformat_minor": 2
}
