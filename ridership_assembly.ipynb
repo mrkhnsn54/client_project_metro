{
 "cells": [
  {
   "cell_type": "code",
   "execution_count": 18,
   "metadata": {},
   "outputs": [],
   "source": [
    "\n",
    "import os, json\n",
    "import pandas as pd\n",
    "import numpy as np\n",
    "import math\n",
    "import datetime as dt\n"
   ]
  },
  {
   "cell_type": "code",
   "execution_count": 27,
   "metadata": {},
   "outputs": [
    {
     "name": "stdout",
     "output_type": "stream",
     "text": [
      "WARNING *** OLE2 inconsistency: SSCS size is 0 but SSAT size is non-zero\n",
      "WARNING *** OLE2 inconsistency: SSCS size is 0 but SSAT size is non-zero\n",
      "WARNING *** OLE2 inconsistency: SSCS size is 0 but SSAT size is non-zero\n",
      "WARNING *** OLE2 inconsistency: SSCS size is 0 but SSAT size is non-zero\n",
      "WARNING *** OLE2 inconsistency: SSCS size is 0 but SSAT size is non-zero\n",
      "WARNING *** OLE2 inconsistency: SSCS size is 0 but SSAT size is non-zero\n",
      "WARNING *** OLE2 inconsistency: SSCS size is 0 but SSAT size is non-zero\n",
      "WARNING *** OLE2 inconsistency: SSCS size is 0 but SSAT size is non-zero\n",
      "WARNING *** OLE2 inconsistency: SSCS size is 0 but SSAT size is non-zero\n",
      "WARNING *** OLE2 inconsistency: SSCS size is 0 but SSAT size is non-zero\n",
      "WARNING *** OLE2 inconsistency: SSCS size is 0 but SSAT size is non-zero\n"
     ]
    }
   ],
   "source": [
    "jan = pd.read_excel(\n",
    "    \"L:/Mark Work/MURP/Client Project/metro_ridership/201901 Avg Daily Line_Stop Boardings-Alightings.xls\")\n",
    "jan['month'] = 1\n",
    "feb = pd.read_excel(\n",
    "    \"L:/Mark Work/MURP/Client Project/metro_ridership/201902 Avg Daily Line_Stop Boardings-Alightings.xls\")\n",
    "feb['month'] = 2\n",
    "mar = pd.read_excel(\n",
    "    \"L:/Mark Work/MURP/Client Project/metro_ridership/201903 Avg Daily Line_Stop Boardings-Alightings.xls\")\n",
    "mar['month'] = 3\n",
    "apr = pd.read_excel(\n",
    "    \"L:/Mark Work/MURP/Client Project/metro_ridership/201904 Avg Daily Line_Stop Boardings-Alightings.xls\")\n",
    "apr['month'] = 4\n",
    "may = pd.read_excel(\n",
    "    \"L:/Mark Work/MURP/Client Project/metro_ridership/201905 Avg Daily Line_Stop Boardings-Alightings.xls\")\n",
    "may['month'] = 5\n",
    "jun = pd.read_excel(\n",
    "    \"L:/Mark Work/MURP/Client Project/metro_ridership/201906 Avg Daily Line_Stop Boardings-Alightings.xls\")\n",
    "jun['month'] = 6\n",
    "jul = pd.read_excel(\n",
    "    \"L:/Mark Work/MURP/Client Project/metro_ridership/201907 Avg Daily Line_Stop Boardings-Alightings.xls\")\n",
    "jul['month'] = 7\n",
    "aug = pd.read_excel(\n",
    "    \"L:/Mark Work/MURP/Client Project/metro_ridership/201908 Avg Daily Line_Stop Boardings-Alightings.xls\")\n",
    "aug['month'] = 8\n",
    "sep = pd.read_excel(\n",
    "    \"L:/Mark Work/MURP/Client Project/metro_ridership/201909 Avg Daily Line_Stop Boardings-Alightings.xls\")\n",
    "sep['month'] = 9\n",
    "octo = pd.read_excel(\n",
    "    \"L:/Mark Work/MURP/Client Project/metro_ridership/201910 Avg Daily Line_Stop Boardings-Alightings.xls\")\n",
    "octo['month'] = 10\n",
    "nov = pd.read_excel(\n",
    "    \"L:/Mark Work/MURP/Client Project/metro_ridership/201911 Avg Daily Line_Stop Boardings-Alightings.xls\")\n",
    "nov['month'] = 11\n",
    "dec1 = pd.read_excel(\n",
    "    \"L:/Mark Work/MURP/Client Project/metro_ridership/201912A Avg Daily Line_Stop Boardings-Alightings.xls\")\n",
    "dec1['month'] = 12\n",
    "dec2 = pd.read_excel(\n",
    "    \"L:/Mark Work/MURP/Client Project/metro_ridership/201912B Avg Daily Line_Stop Boardings-Alightings.xls\")\n",
    "dec2['month'] = 13"
   ]
  },
  {
   "cell_type": "code",
   "execution_count": 29,
   "metadata": {},
   "outputs": [],
   "source": [
    "months = [jan,feb,mar,apr,may,jun,jul,aug,sep,octo,nov,dec1,dec2]\n",
    "ridership = pd.concat(months)"
   ]
  },
  {
   "cell_type": "code",
   "execution_count": 32,
   "metadata": {},
   "outputs": [],
   "source": [
    "ridership.to_csv('L:/Mark Work/MURP/Client Project/metro_ridership/metro_ridership_2019.csv')"
   ]
  }
 ],
 "metadata": {
  "kernelspec": {
   "display_name": "Python 3",
   "language": "python",
   "name": "python3"
  },
  "language_info": {
   "codemirror_mode": {
    "name": "ipython",
    "version": 3
   },
   "file_extension": ".py",
   "mimetype": "text/x-python",
   "name": "python",
   "nbconvert_exporter": "python",
   "pygments_lexer": "ipython3",
   "version": "3.7.4"
  }
 },
 "nbformat": 4,
 "nbformat_minor": 2
}
